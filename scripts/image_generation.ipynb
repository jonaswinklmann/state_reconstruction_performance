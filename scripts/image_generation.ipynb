{
 "cells": [
  {
   "cell_type": "markdown",
   "metadata": {},
   "source": [
    "# Image generation tutorial\n",
    "\n",
    "* Create package objects required for image generation\n",
    "* Generate noisy sample images"
   ]
  },
  {
   "cell_type": "code",
   "execution_count": null,
   "metadata": {},
   "outputs": [],
   "source": [
    "import state_reconstruction as srec\n",
    "\n",
    "import numpy as np\n",
    "import os\n",
    "import PIL\n",
    "\n",
    "from libics.env import DIR_DESKTOP\n",
    "from libics.core import io\n",
    "from libics.tools import plot\n",
    "from libics.tools.trafo.linear import AffineTrafo2d"
   ]
  },
  {
   "cell_type": "markdown",
   "metadata": {},
   "source": [
    "## Package configuration"
   ]
  },
  {
   "cell_type": "markdown",
   "metadata": {},
   "source": [
    "**The `state_reconstruction` package configuration**\n",
    "\n",
    "* can be read as follows\n",
    "* and can be altered by overwriting the appropriate parameters in the configuration file located at `~/.libics/state_estimation/config.json`, where `~` indicates the user folder (e.g. `C:/Users/<my_user_name>`"
   ]
  },
  {
   "cell_type": "code",
   "execution_count": null,
   "metadata": {},
   "outputs": [],
   "source": [
    "srec.get_config()"
   ]
  },
  {
   "cell_type": "markdown",
   "metadata": {},
   "source": [
    "**Files generated using this tutorial**\n",
    "\n",
    "* are saved to the desktop with the following file name\n",
    "* and may be used by other tutorials"
   ]
  },
  {
   "cell_type": "code",
   "execution_count": null,
   "metadata": {},
   "outputs": [],
   "source": [
    "DEMO_FILENAME = \"srec_demo\""
   ]
  },
  {
   "cell_type": "markdown",
   "metadata": {},
   "source": [
    "## Transformation between image and sites"
   ]
  },
  {
   "cell_type": "markdown",
   "metadata": {},
   "source": [
    "**Generate 2D affine transformation**\n",
    "\n",
    "* The coordinate systems of the image pixels and the lattice sites are related by a two-dimensional affine transformation\n",
    "* A systematic way to parameterizing the transformation consists of specifying magnification, rotation and offset of the coordinate axes\n",
    "* The offset can be conveniently specifying by defining a point in each coordinate system, that should be mapped onto each other"
   ]
  },
  {
   "cell_type": "code",
   "execution_count": null,
   "metadata": {},
   "outputs": [],
   "source": [
    "magnification = 4.25\n",
    "angle = 45\n",
    "site_ref = srec.get_config(\"trafo_gen.phase_ref_site\")\n",
    "image_ref = srec.get_config(\"trafo_gen.phase_ref_image\")\n",
    "print(\"site_ref:\", site_ref)\n",
    "print(\"image_ref:\", image_ref)\n",
    "\n",
    "trafo_site_to_image = AffineTrafo2d()\n",
    "# Set site unit vectors within image coordinate system\n",
    "trafo_site_to_image.set_origin_axes(\n",
    "    magnification=[magnification, magnification],\n",
    "    angle=np.deg2rad([angle, angle])\n",
    ")\n",
    "trafo_site_to_image.set_offset_by_point_pair(\n",
    "    site_ref, image_ref\n",
    ")\n",
    "trafo_site_to_image"
   ]
  },
  {
   "cell_type": "code",
   "execution_count": null,
   "metadata": {},
   "outputs": [],
   "source": [
    "# Example for affine transformation of an image\n",
    "_site_shape = np.array(site_ref) * 2\n",
    "_image_shape = np.array(image_ref) * 2\n",
    "\n",
    "_site_ar = np.arange(np.prod(_site_shape)).reshape(_site_shape)\n",
    "_image_ar = trafo_site_to_image.cv_to_target(\n",
    "    _site_ar, _image_shape\n",
    ")\n",
    "\n",
    "fig, axs = plot.subplots(figsize=(8, 3), ncols=2)\n",
    "plt_params = dict(\n",
    "    cmap=\"viridis\", colorbar=True, vmin=0, vmax=np.max(_site_ar)\n",
    ")\n",
    "plot.pcolorim(_site_ar, ax=axs[0], title=\"Site coordinate system\", **plt_params)\n",
    "plot.pcolorim(_image_ar, ax=axs[1], title=\"Image coordinate system\", **plt_params)\n",
    "plot.style_figure(tight_layout=True)"
   ]
  },
  {
   "cell_type": "code",
   "execution_count": null,
   "metadata": {},
   "outputs": [],
   "source": [
    "# Save trafo object to json file\n",
    "io.save(\n",
    "    os.path.join(DIR_DESKTOP, DEMO_FILENAME + \"_trafo.json\"),\n",
    "    trafo_site_to_image\n",
    ")"
   ]
  },
  {
   "cell_type": "code",
   "execution_count": null,
   "metadata": {},
   "outputs": [],
   "source": [
    "# For future use, the trafo object can be directly loaded from file\n",
    "trafo_site_to_image = io.load(\n",
    "    os.path.join(DIR_DESKTOP, DEMO_FILENAME + \"_trafo.json\")\n",
    ")\n",
    "trafo_site_to_image"
   ]
  },
  {
   "cell_type": "markdown",
   "metadata": {},
   "source": [
    "## Point spread functions"
   ]
  },
  {
   "cell_type": "markdown",
   "metadata": {},
   "source": [
    "**Generate PSF**\n",
    "\n",
    "* We first create PSFs as arrays (with shape `psf_size`)\n",
    "* These may have higher resolution than the images (with supersampling factor `psf_supersample`)\n",
    "* There are built-in functions for PSFs with Gaussian or Airy form"
   ]
  },
  {
   "cell_type": "code",
   "execution_count": null,
   "metadata": {},
   "outputs": [],
   "source": [
    "wavelength = 780e-9\n",
    "lattice_spacing = 532e-9\n",
    "numerical_aperture = 0.68\n",
    "psf_size = (21, 21)\n",
    "psf_supersample = 5\n",
    "\n",
    "_trafo_magnification = trafo_site_to_image.get_origin_axes()[0].mean()\n",
    "px_size = lattice_spacing / _trafo_magnification\n",
    "gaussian_width = srec.get_psf_gaussian_width(\n",
    "    wavelength, px_size=px_size,\n",
    "    numerical_aperture=numerical_aperture\n",
    ")\n",
    "gaussian_psf = srec.get_psf_gaussian(\n",
    "    wx=psf_supersample*gaussian_width,\n",
    "    size=psf_supersample*np.array(psf_size)\n",
    ")\n",
    "\n",
    "airy_width = srec.get_psf_airy_width(\n",
    "    wavelength, px_size=px_size,\n",
    "    numerical_aperture=numerical_aperture\n",
    ")\n",
    "airy_psf = srec.get_psf_airy(\n",
    "    wx=psf_supersample*airy_width,\n",
    "    size=psf_supersample*np.array(psf_size)\n",
    ")\n",
    "\n",
    "fig, axs = plot.subplots(figsize=(8, 3), ncols=2)\n",
    "plt_params = dict(\n",
    "    cmap=\"viridis\", colorbar=True, vmin=0\n",
    ")\n",
    "plot.pcolorim(gaussian_psf, ax=axs[0], title=\"Gaussian PSF\", **plt_params)\n",
    "plot.pcolorim(airy_psf, ax=axs[1], title=\"Airy PSF\", **plt_params)\n",
    "plot.style_figure(tight_layout=True)"
   ]
  },
  {
   "cell_type": "markdown",
   "metadata": {},
   "source": [
    "**Create `state_reconstruction` PSF object**"
   ]
  },
  {
   "cell_type": "code",
   "execution_count": null,
   "metadata": {},
   "outputs": [],
   "source": [
    "ipsf_gen = srec.IntegratedPsfGenerator(\n",
    "    psf=airy_psf, psf_supersample=psf_supersample\n",
    ")\n",
    "ipsf_gen"
   ]
  },
  {
   "cell_type": "code",
   "execution_count": null,
   "metadata": {},
   "outputs": [],
   "source": [
    "# Save the PSF object to a json file\n",
    "ipsf_gen.save(os.path.join(DIR_DESKTOP, DEMO_FILENAME + \"_psf.json\"))"
   ]
  },
  {
   "cell_type": "code",
   "execution_count": null,
   "metadata": {},
   "outputs": [],
   "source": [
    "# For future use, the PSF object can be directly loaded from file\n",
    "ipsf_gen = srec.IntegratedPsfGenerator.load(\n",
    "    os.path.join(DIR_DESKTOP, DEMO_FILENAME + \"_psf.json\")\n",
    ")\n",
    "ipsf_gen"
   ]
  },
  {
   "cell_type": "markdown",
   "metadata": {},
   "source": [
    "## Images\n",
    "\n",
    "* Create `state_reconstruction` image generator object"
   ]
  },
  {
   "cell_type": "markdown",
   "metadata": {},
   "source": [
    "**Generate dense noisy images**"
   ]
  },
  {
   "cell_type": "code",
   "execution_count": null,
   "metadata": {},
   "outputs": [],
   "source": [
    "image_size = (512, 512)      # Shape of images\n",
    "sites_size = (170, 170)      # Shape of reconstructed sites\n",
    "\n",
    "img_gen = srec.ImageGenerator(\n",
    "    image_size=image_size,\n",
    "    sites_size=sites_size,\n",
    "    trafo_site_to_image=trafo_site_to_image,\n",
    "    psf=ipsf_gen.psf,\n",
    "    psf_supersample=ipsf_gen.psf_supersample\n",
    ")\n",
    "img_gen"
   ]
  },
  {
   "cell_type": "code",
   "execution_count": null,
   "metadata": {},
   "outputs": [],
   "source": [
    "lattice_phase = (0.0, 0.0)  # 2D lattice phases in units of lattice spacing\n",
    "rng_seed = 0\n",
    "\n",
    "_res = img_gen.generate_image(\n",
    "    seed=rng_seed,\n",
    "    sites_phase=lattice_phase,\n",
    "    phase_ref_image=srec.get_config(\"trafo_gen.phase_ref_image\"),\n",
    "    phase_ref_site=srec.get_config(\"trafo_gen.phase_ref_site\"),\n",
    "    ret_vals=[\"occ_2d_sites\"]\n",
    ")\n",
    "demo_occs = _res[\"occ_2d_sites\"]\n",
    "demo_image = _res[\"image_sample\"]\n",
    "# Convert to positive integer values\n",
    "demo_image += 100\n",
    "demo_image[demo_image < 0] = 0\n",
    "demo_image.data = np.array(np.round(demo_image.data), dtype=\"uint16\")\n",
    "\n",
    "plot.pcolorim(demo_image, cmap=\"hot\", colorbar=True, vmin=100)"
   ]
  },
  {
   "cell_type": "code",
   "execution_count": null,
   "metadata": {},
   "outputs": [],
   "source": [
    "# Save demo image to a png file\n",
    "pil_image = np.array(demo_image, dtype=\"uint16\").T\n",
    "pil_image = PIL.Image.fromarray(pil_image)\n",
    "pil_image.save(os.path.join(DIR_DESKTOP, DEMO_FILENAME + \"_image-dense.png\"))\n",
    "# Save occupation to a json file\n",
    "io.save(os.path.join(DIR_DESKTOP, DEMO_FILENAME + \"_occ-dense.json\"), demo_occs)"
   ]
  },
  {
   "cell_type": "code",
   "execution_count": null,
   "metadata": {},
   "outputs": [],
   "source": [
    "# Loaded the image from file\n",
    "demo_image = io.load(\n",
    "    os.path.join(DIR_DESKTOP, DEMO_FILENAME + \"_image-dense.png\")\n",
    ")\n",
    "plot.pcolorim(demo_image, cmap=\"hot\", colorbar=True, vmin=100)"
   ]
  },
  {
   "cell_type": "markdown",
   "metadata": {},
   "source": [
    "**Generate sparse noisy images**"
   ]
  },
  {
   "cell_type": "code",
   "execution_count": null,
   "metadata": {},
   "outputs": [],
   "source": [
    "image_size = (512, 512)      # Shape of images\n",
    "sites_size = (170, 170)      # Shape of reconstructed sites\n",
    "\n",
    "img_gen = srec.ImageGenerator(\n",
    "    image_size=image_size,\n",
    "    sites_size=sites_size,\n",
    "    atoms_size=(75, 75),\n",
    "    atoms_filling=0.015,\n",
    "    trafo_site_to_image=trafo_site_to_image,\n",
    "    psf=ipsf_gen.psf,\n",
    "    psf_supersample=ipsf_gen.psf_supersample\n",
    ")\n",
    "img_gen"
   ]
  },
  {
   "cell_type": "code",
   "execution_count": null,
   "metadata": {},
   "outputs": [],
   "source": [
    "lattice_phase = (0.0, 0.0)  # 2D lattice phases in units of lattice spacing\n",
    "rng_seed = 0\n",
    "\n",
    "_res = img_gen.generate_image(\n",
    "    seed=rng_seed,\n",
    "    sites_phase=lattice_phase,\n",
    "    phase_ref_image=srec.get_config(\"trafo_gen.phase_ref_image\"),\n",
    "    phase_ref_site=srec.get_config(\"trafo_gen.phase_ref_site\"),\n",
    "    ret_vals=[\"occ_2d_sites\"]\n",
    ")\n",
    "demo_occs = _res[\"occ_2d_sites\"]\n",
    "demo_image = _res[\"image_sample\"]\n",
    "# Convert to positive integer values\n",
    "demo_image += 100\n",
    "demo_image[demo_image < 0] = 0\n",
    "demo_image.data = np.array(np.round(demo_image.data), dtype=\"uint16\")\n",
    "\n",
    "plot.pcolorim(demo_image, cmap=\"hot\", colorbar=True, vmin=100)"
   ]
  },
  {
   "cell_type": "code",
   "execution_count": null,
   "metadata": {},
   "outputs": [],
   "source": [
    "# Save demo image to a png file\n",
    "pil_image = np.flip(np.array(demo_image, dtype=\"uint16\").T, axis=0)\n",
    "pil_image = PIL.Image.fromarray(pil_image)\n",
    "pil_image.save(os.path.join(DIR_DESKTOP, DEMO_FILENAME + \"_image-sparse.png\"))\n",
    "# Save occupation to a json file\n",
    "io.save(os.path.join(DIR_DESKTOP, DEMO_FILENAME + \"_occ-sparse.json\"), demo_occs)"
   ]
  },
  {
   "cell_type": "code",
   "execution_count": null,
   "metadata": {},
   "outputs": [],
   "source": [
    "# Load the image from file\n",
    "demo_image = io.load(\n",
    "    os.path.join(DIR_DESKTOP, DEMO_FILENAME + \"_image-sparse.png\")\n",
    ")\n",
    "plot.pcolorim(demo_image, cmap=\"hot\", colorbar=True, vmin=100)"
   ]
  },
  {
   "cell_type": "code",
   "execution_count": null,
   "metadata": {},
   "outputs": [],
   "source": []
  }
 ],
 "metadata": {
  "kernelspec": {
   "display_name": "Python 3",
   "language": "python",
   "name": "python3"
  },
  "language_info": {
   "codemirror_mode": {
    "name": "ipython",
    "version": 3
   },
   "file_extension": ".py",
   "mimetype": "text/x-python",
   "name": "python",
   "nbconvert_exporter": "python",
   "pygments_lexer": "ipython3",
   "version": "3.8.2"
  },
  "toc-autonumbering": true
 },
 "nbformat": 4,
 "nbformat_minor": 4
}
