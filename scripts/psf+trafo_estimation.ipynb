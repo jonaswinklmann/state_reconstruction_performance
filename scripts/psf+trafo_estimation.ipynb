{
 "cells": [
  {
   "cell_type": "markdown",
   "metadata": {},
   "source": [
    "# PSF and transformation estimation tutorial\n",
    "\n",
    "* Estimate a point spread function with subpixel resolution from a sparsely filled image\n",
    "* Estimate the affine transformation between site and image coordinates\n",
    "* **Make sure you have run the tutorial `image_generation.ipynb`**"
   ]
  },
  {
   "cell_type": "code",
   "execution_count": null,
   "metadata": {},
   "outputs": [],
   "source": [
    "import state_reconstruction as srec\n",
    "\n",
    "import numpy as np\n",
    "import os\n",
    "\n",
    "from libics.env import DIR_DESKTOP\n",
    "from libics.core import io\n",
    "from libics.tools import plot\n",
    "from libics.tools.trafo.linear import AffineTrafo2d"
   ]
  },
  {
   "cell_type": "markdown",
   "metadata": {},
   "source": [
    "## Package configuration"
   ]
  },
  {
   "cell_type": "markdown",
   "metadata": {},
   "source": [
    "**The `state_reconstruction` package configuration**\n",
    "\n",
    "* can be read as follows\n",
    "* and can be altered by overwriting the appropriate parameters in the configuration file located at `~/.libics/state_estimation/config.json`, where `~` indicates the user folder (e.g. `C:/Users/<my_user_name>`)"
   ]
  },
  {
   "cell_type": "code",
   "execution_count": null,
   "metadata": {},
   "outputs": [],
   "source": [
    "srec.get_config()"
   ]
  },
  {
   "cell_type": "markdown",
   "metadata": {},
   "source": [
    "**Files generated using this tutorial**\n",
    "\n",
    "* are saved to the desktop with the following file name\n",
    "* and may be used by other tutorials"
   ]
  },
  {
   "cell_type": "code",
   "execution_count": null,
   "metadata": {},
   "outputs": [],
   "source": [
    "DEMO_FILENAME = \"srec_demo\""
   ]
  },
  {
   "cell_type": "markdown",
   "metadata": {},
   "source": [
    "## Load prerequisites"
   ]
  },
  {
   "cell_type": "markdown",
   "metadata": {},
   "source": [
    "**Load affine transformation object**"
   ]
  },
  {
   "cell_type": "code",
   "execution_count": null,
   "metadata": {},
   "outputs": [],
   "source": [
    "filepath_trafo_site_to_image = os.path.join(DIR_DESKTOP, DEMO_FILENAME + \"_trafo.json\")\n",
    "trafo_site_to_image = io.load(filepath_trafo_site_to_image)\n",
    "trafo_site_to_image"
   ]
  },
  {
   "cell_type": "code",
   "execution_count": null,
   "metadata": {},
   "outputs": [],
   "source": [
    "phase_ref_image = srec.get_config(\"trafo_gen.phase_ref_image\")\n",
    "phase_ref_site = srec.get_config(\"trafo_gen.phase_ref_site\")\n",
    "phase_ref_image, phase_ref_site"
   ]
  },
  {
   "cell_type": "markdown",
   "metadata": {},
   "source": [
    "**Load PSF object**"
   ]
  },
  {
   "cell_type": "code",
   "execution_count": null,
   "metadata": {},
   "outputs": [],
   "source": [
    "filepath_ipsf_gen = os.path.join(DIR_DESKTOP, DEMO_FILENAME + \"_psf.json\")\n",
    "ipsf_gen = srec.IntegratedPsfGenerator.load(filepath_ipsf_gen)\n",
    "ipsf_gen"
   ]
  },
  {
   "cell_type": "markdown",
   "metadata": {},
   "source": [
    "**Load image to be reconstructed**"
   ]
  },
  {
   "cell_type": "code",
   "execution_count": null,
   "metadata": {},
   "outputs": [],
   "source": [
    "demo_image = io.load(\n",
    "    os.path.join(DIR_DESKTOP, DEMO_FILENAME + \"_image-sparse.png\")\n",
    ")\n",
    "demo_occ = io.load(\n",
    "    os.path.join(DIR_DESKTOP, DEMO_FILENAME + \"_occ-sparse.json\")\n",
    ")"
   ]
  },
  {
   "cell_type": "markdown",
   "metadata": {},
   "source": [
    "## Supersampling point spread function estimator"
   ]
  },
  {
   "cell_type": "markdown",
   "metadata": {},
   "source": [
    "**Initialization with guessed PSF**\n",
    "\n",
    "* The PSF estimator object requires PSF initialization\n",
    "* We use a guessed Gaussian PSF"
   ]
  },
  {
   "cell_type": "code",
   "execution_count": null,
   "metadata": {},
   "outputs": [],
   "source": [
    "psf_supersample = 5\n",
    "psf_size = 21\n",
    "\n",
    "guess_psf_width = srec.get_psf_gaussian_width(\n",
    "    780e-9, px_size=532e-9/4.2, numerical_aperture=0.63\n",
    ")\n",
    "guess_psf_integrated = srec.get_psf_gaussian(\n",
    "    wx=guess_psf_width, size=psf_size\n",
    ")\n",
    "plot.pcolorim(guess_psf_integrated)"
   ]
  },
  {
   "cell_type": "markdown",
   "metadata": {},
   "source": [
    "**Set up PSF estimator object**\n",
    "\n",
    "* Initialize estimator with guessed PSF\n",
    "* Set parameters to identify isolated atoms\n",
    "* The filtering and identification parameters strongly depend on the image quality; especially for real-life images, playing with these parameters is typically required\n",
    "* Finally, the supersampling parameters (for estimating subpixel resolution) can be set\n",
    "* Note that it might be advisable to crop the raw images suitably first"
   ]
  },
  {
   "cell_type": "code",
   "execution_count": null,
   "metadata": {},
   "outputs": [],
   "source": [
    "psf_est = srec.SupersamplePsfEstimator(\n",
    "    # Guessed PSF\n",
    "    psf_integrated=guess_psf_integrated,\n",
    "    # Spatial filtering parameters\n",
    "    filter_inner_thr=1/np.e,\n",
    "    filter_outer_thr=1/np.e**4,\n",
    "    # Histogram thresholding parameters\n",
    "    onsite_split_cond_width=6,\n",
    "    neighbor_split_cond_width=9,\n",
    "    # Local cropping parameters\n",
    "    label_center_rel_im_size=2,\n",
    "    # Supersampling parameters\n",
    "    psf_supersample=psf_supersample,\n",
    "    psf_interpolation=\"linear\"\n",
    ")\n",
    "psf_est.setup()\n",
    "psf_est"
   ]
  },
  {
   "cell_type": "code",
   "execution_count": null,
   "metadata": {},
   "outputs": [],
   "source": [
    "# Check whether isolated atoms were detected well\n",
    "_lcs = psf_est.get_label_centers(demo_image)\n",
    "plot.figure(figsize=(14, 12))\n",
    "plot.pcolorim(demo_image, cmap=\"hot\", vmin=100, vmax=1000, colorbar=True)\n",
    "plot.scatter(*_lcs.T, marker=\".\", color=\"blue\")"
   ]
  },
  {
   "cell_type": "markdown",
   "metadata": {},
   "source": [
    "**Estimate supersampled PSF**\n",
    "\n",
    "* Use images with sparse atoms to estimate PSF\n",
    "* Note that you can use more than a single image (as in this example)"
   ]
  },
  {
   "cell_type": "code",
   "execution_count": null,
   "metadata": {},
   "outputs": [],
   "source": [
    "# Get all sparse atom images (here only one)\n",
    "multiple_images = [demo_image]"
   ]
  },
  {
   "cell_type": "code",
   "execution_count": null,
   "metadata": {},
   "outputs": [],
   "source": [
    "# Estimate PSF\n",
    "estimated_psf = psf_est.get_psf(*multiple_images, print_progress=True)\n",
    "# Zero and normalize estimated PSF\n",
    "estimated_psf -= np.percentile(estimated_psf, 20)\n",
    "estimated_psf[estimated_psf < 0] = 0\n",
    "estimated_psf /= np.sum(estimated_psf)"
   ]
  },
  {
   "cell_type": "code",
   "execution_count": null,
   "metadata": {},
   "outputs": [],
   "source": [
    "# Check\n",
    "fig, axs = plot.subplots(figsize=(16, 2.5), ncols=5)\n",
    "\n",
    "# Linear color scale\n",
    "plt_params = dict(\n",
    "    colorbar=True, cmap=\"viridis\", vmin=0, vmax=None, clabel=\"linear\"\n",
    ")\n",
    "plot.pcolorim(estimated_psf, ax=axs[0], title=\"estimated\", **plt_params)\n",
    "plot.pcolorim(ipsf_gen.psf, ax=axs[1], title=\"real\", **plt_params)\n",
    "\n",
    "# Linear difference\n",
    "plt_params = dict(\n",
    "    colorbar=True, cmap=\"RdBu_r\", vcen=0, vdif=True, clabel=\"linear\"\n",
    ")\n",
    "plot.pcolorim(estimated_psf - ipsf_gen.psf, ax=axs[2], title=\"difference\", **plt_params)\n",
    "\n",
    "# Log color scale\n",
    "vmin = -2\n",
    "plt_params = dict(\n",
    "    colorbar=True, cmap=\"viridis\", vmin=vmin, vmax=0, clabel=\"log10\"\n",
    ")\n",
    "estimated_psf_log = np.log10(estimated_psf/estimated_psf.max())\n",
    "estimated_psf_log[estimated_psf_log < vmin] = vmin\n",
    "real_psf_log = np.log10(ipsf_gen.psf/ipsf_gen.psf.max())\n",
    "real_psf_log[real_psf_log < vmin] = vmin\n",
    "plot.pcolorim(estimated_psf_log, ax=axs[3], title=\"estimated\", **plt_params)\n",
    "plot.pcolorim(real_psf_log, ax=axs[4], title=\"real\", **plt_params)\n",
    "\n",
    "plot.style_figure(tight_layout=True)"
   ]
  },
  {
   "cell_type": "code",
   "execution_count": null,
   "metadata": {},
   "outputs": [],
   "source": [
    "# Save estimated PSF as PSF generator object for further use\n",
    "estimated_ipsf_gen = srec.IntegratedPsfGenerator(\n",
    "    psf=estimated_psf,\n",
    "    psf_supersample=psf_supersample\n",
    ")\n",
    "estimated_ipsf_gen.save(os.path.join(DIR_DESKTOP, DEMO_FILENAME + \"_estimated-psf\"))"
   ]
  },
  {
   "cell_type": "markdown",
   "metadata": {},
   "source": [
    "## Afine transformation estimator"
   ]
  },
  {
   "cell_type": "markdown",
   "metadata": {},
   "source": [
    "**Initialization with guessed trafo**\n",
    "\n",
    "* The transformation estimator object requires a guessed initialization"
   ]
  },
  {
   "cell_type": "code",
   "execution_count": null,
   "metadata": {},
   "outputs": [],
   "source": [
    "# We purposefully set slightly wrong transformation parameters for initialization\n",
    "guess_trafo = AffineTrafo2d()\n",
    "guess_trafo.set_origin_axes(\n",
    "    magnification=[4, 4],\n",
    "    angle=np.deg2rad([43, 43])\n",
    ")\n",
    "guess_trafo"
   ]
  },
  {
   "cell_type": "markdown",
   "metadata": {},
   "source": [
    "**Set up isolated atom locator object**\n",
    "\n",
    "* This object is a parent class of `SupersamplePsfEstimator`\n",
    "* and uses the same parameters to identify isolated atoms (see above)"
   ]
  },
  {
   "cell_type": "code",
   "execution_count": null,
   "metadata": {},
   "outputs": [],
   "source": [
    "iso_loc = srec.IsolatedLocator(\n",
    "    # Guessed PSF\n",
    "    psf_integrated=guess_psf_integrated,\n",
    "    # Spatial filtering parameters\n",
    "    filter_inner_thr=1/np.e,\n",
    "    filter_outer_thr=1/np.e**4,\n",
    "    # Histogram thresholding parameters\n",
    "    onsite_split_cond_width=6,\n",
    "    neighbor_split_cond_width=9,\n",
    "    # Local cropping parameters\n",
    "    label_center_rel_im_size=2,\n",
    ")\n",
    "iso_loc.setup()\n",
    "iso_loc"
   ]
  },
  {
   "cell_type": "code",
   "execution_count": null,
   "metadata": {},
   "outputs": [],
   "source": [
    "# Check whether isolated atoms were detected well\n",
    "_lcs = iso_loc.get_label_centers(demo_image)\n",
    "plot.figure(figsize=(14, 12))\n",
    "plot.pcolorim(demo_image, cmap=\"hot\", vmin=100, vmax=1000, colorbar=True)\n",
    "plot.scatter(*_lcs.T, marker=\".\", color=\"blue\")"
   ]
  },
  {
   "cell_type": "markdown",
   "metadata": {},
   "source": [
    "**Set up transformation estimator object**\n",
    "\n",
    "* Using the isolated atom locator, the trafo estimator object can fit an affine transformation\n",
    "* Note that multiple images can be used for fitting (here only one image is demonstrated)"
   ]
  },
  {
   "cell_type": "code",
   "execution_count": null,
   "metadata": {},
   "outputs": [],
   "source": [
    "trafo_est = srec.TrafoEstimator(\n",
    "    isolated_locator=iso_loc,\n",
    "    guess_trafo=guess_trafo,\n",
    "    angle_range=np.deg2rad(5),\n",
    "    angle_num=32,\n",
    ")\n",
    "trafo_est"
   ]
  },
  {
   "cell_type": "code",
   "execution_count": null,
   "metadata": {},
   "outputs": [],
   "source": [
    "# Set up multiple images for fitting\n",
    "multiple_images = [demo_image]\n",
    "# Fit transformation\n",
    "estimated_trafo = trafo_est.find_trafo(*multiple_images, print_progress=True)\n",
    "# Set desired offset\n",
    "estimated_trafo.set_offset_by_point_pair(\n",
    "    phase_ref_site, phase_ref_image\n",
    ")\n",
    "estimated_trafo"
   ]
  },
  {
   "cell_type": "code",
   "execution_count": null,
   "metadata": {},
   "outputs": [],
   "source": [
    "# Compare to real transformation\n",
    "trafo_site_to_image"
   ]
  },
  {
   "cell_type": "code",
   "execution_count": null,
   "metadata": {},
   "outputs": [],
   "source": []
  }
 ],
 "metadata": {
  "kernelspec": {
   "display_name": "Python 3",
   "language": "python",
   "name": "python3"
  },
  "language_info": {
   "codemirror_mode": {
    "name": "ipython",
    "version": 3
   },
   "file_extension": ".py",
   "mimetype": "text/x-python",
   "name": "python",
   "nbconvert_exporter": "python",
   "pygments_lexer": "ipython3",
   "version": "3.8.2"
  },
  "toc-autonumbering": true
 },
 "nbformat": 4,
 "nbformat_minor": 4
}
